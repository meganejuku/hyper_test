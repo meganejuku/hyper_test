{
 "cells": [
  {
   "cell_type": "code",
   "execution_count": 2,
   "metadata": {},
   "outputs": [],
   "source": [
    "import tifffile\n",
    "import numpy as np\n",
    "import matplotlib.pyplot as plt\n",
    "import glob\n",
    "from natsort import natsorted\n",
    "import shutil\n",
    "import os"
   ]
  },
  {
   "cell_type": "code",
   "execution_count": 32,
   "metadata": {},
   "outputs": [],
   "source": [
    "img = tifffile.imread(r\"2025_4_10/battery/session_000_003_cube.tiff\")"
   ]
  },
  {
   "cell_type": "code",
   "execution_count": 4,
   "metadata": {},
   "outputs": [
    {
     "name": "stdout",
     "output_type": "stream",
     "text": [
      "view.tiff および .cu3 ファイルの移動が完了しました。\n"
     ]
    }
   ],
   "source": [
    "import os\n",
    "import shutil\n",
    "\n",
    "# 元のディレクトリ（検索対象）\n",
    "source_dir = r\"2025_4_10/not_battery\"  # ← 実際のパスに置き換えてください\n",
    "\n",
    "# 移動先のディレクトリ（view.tiffと.cu3をまとめる場所）\n",
    "destination_dir = r\"2025_4_10/yobi/not_battery\"  # ← 実際のパスに置き換えてください\n",
    "\n",
    "# ディレクトリがなければ作成\n",
    "os.makedirs(destination_dir, exist_ok=True)\n",
    "\n",
    "# 移動対象となる条件\n",
    "def is_target_file(filename):\n",
    "    return (\n",
    "        filename.lower().endswith(\".cu3\") or\n",
    "        filename.lower().endswith(\"_view.tiff\")  # ←ここで部分一致に対応\n",
    "    )\n",
    "\n",
    "# 検索・移動処理\n",
    "for root, dirs, files in os.walk(source_dir):\n",
    "    for file in files:\n",
    "        if is_target_file(file):\n",
    "            src_path = os.path.join(root, file)\n",
    "            dst_path = os.path.join(destination_dir, file)\n",
    "\n",
    "            # 同名ファイルの重複を避けるためにパス情報を追加（必要に応じて）\n",
    "            if os.path.exists(dst_path):\n",
    "                base, ext = os.path.splitext(file)\n",
    "                subfolder = os.path.relpath(root, source_dir).replace(os.sep, \"_\")\n",
    "                dst_path = os.path.join(destination_dir, f\"{base}_{subfolder}{ext}\")\n",
    "\n",
    "            shutil.move(src_path, dst_path)\n",
    "            print(f\"Moved: {src_path} -> {dst_path}\")\n",
    "\n",
    "print(\"view.tiff および .cu3 ファイルの移動が完了しました。\")\n"
   ]
  },
  {
   "cell_type": "code",
   "execution_count": 10,
   "metadata": {},
   "outputs": [
    {
     "name": "stdout",
     "output_type": "stream",
     "text": [
      "['2025_4_10/battery/session_000_003_cube.tiff', '2025_4_10/battery/session_000_004_cube.tiff', '2025_4_10/battery/session_000_005_cube.tiff', '2025_4_10/battery/session_000_006_cube.tiff', '2025_4_10/battery/session_000_007_cube.tiff', '2025_4_10/battery/session_000_008_cube.tiff', '2025_4_10/battery/session_000_009_cube.tiff', '2025_4_10/battery/session_000_010_cube.tiff', '2025_4_10/battery/session_000_011_cube.tiff', '2025_4_10/battery/session_000_012_cube.tiff', '2025_4_10/battery/session_000_013_cube.tiff', '2025_4_10/battery/session_000_014_cube.tiff', '2025_4_10/battery/session_000_015_cube.tiff', '2025_4_10/battery/session_000_016_cube.tiff', '2025_4_10/battery/session_000_017_cube.tiff', '2025_4_10/battery/session_000_018_cube.tiff', '2025_4_10/battery/session_000_019_cube.tiff', '2025_4_10/battery/session_000_020_cube.tiff', '2025_4_10/battery/session_000_021_cube.tiff', '2025_4_10/battery/session_000_022_cube.tiff', '2025_4_10/battery/session_000_023_cube.tiff', '2025_4_10/battery/session_000_024_cube.tiff', '2025_4_10/battery/session_000_025_cube.tiff', '2025_4_10/battery/session_000_026_cube.tiff', '2025_4_10/battery/session_000_027_cube.tiff', '2025_4_10/battery/session_000_028_cube.tiff', '2025_4_10/battery/session_000_029_cube.tiff', '2025_4_10/battery/session_000_030_cube.tiff', '2025_4_10/battery/session_000_031_cube.tiff', '2025_4_10/battery/session_000_032_cube.tiff', '2025_4_10/battery/session_000_033_cube.tiff', '2025_4_10/battery/session_000_034_cube.tiff', '2025_4_10/battery/session_000_035_cube.tiff', '2025_4_10/battery/session_000_036_cube.tiff', '2025_4_10/battery/session_000_037_cube.tiff', '2025_4_10/battery/session_000_038_cube.tiff', '2025_4_10/battery/session_000_039_cube.tiff', '2025_4_10/battery/session_000_040_cube.tiff', '2025_4_10/battery/session_000_041_cube.tiff', '2025_4_10/battery/session_000_042_cube.tiff', '2025_4_10/battery/session_000_043_cube.tiff', '2025_4_10/battery/session_000_044_cube.tiff', '2025_4_10/battery/session_000_045_cube.tiff', '2025_4_10/battery/session_000_046_cube.tiff', '2025_4_10/battery/session_000_047_cube.tiff', '2025_4_10/battery/session_000_048_cube.tiff', '2025_4_10/battery/session_000_049_cube.tiff', '2025_4_10/battery/session_000_050_cube.tiff', '2025_4_10/battery/session_000_051_cube.tiff', '2025_4_10/battery/session_000_052_cube.tiff', '2025_4_10/battery/session_000_053_cube.tiff', '2025_4_10/battery/session_000_054_cube.tiff', '2025_4_10/battery/session_000_055_cube.tiff', '2025_4_10/battery/session_000_056_cube.tiff', '2025_4_10/battery/session_000_057_cube.tiff', '2025_4_10/battery/session_000_058_cube.tiff', '2025_4_10/battery/session_000_059_cube.tiff', '2025_4_10/battery/session_000_060_cube.tiff', '2025_4_10/battery/session_000_061_cube.tiff', '2025_4_10/battery/session_000_062_cube.tiff', '2025_4_10/battery/session_000_063_cube.tiff', '2025_4_10/battery/session_000_064_cube.tiff', '2025_4_10/battery/session_000_065_cube.tiff', '2025_4_10/battery/session_000_066_cube.tiff', '2025_4_10/battery/session_000_067_cube.tiff', '2025_4_10/battery/session_000_068_cube.tiff', '2025_4_10/battery/session_000_069_cube.tiff', '2025_4_10/battery/session_000_070_cube.tiff', '2025_4_10/battery/session_000_071_cube.tiff', '2025_4_10/battery/session_000_072_cube.tiff', '2025_4_10/battery/session_000_073_cube.tiff', '2025_4_10/battery/session_000_074_cube.tiff', '2025_4_10/battery/session_000_075_cube.tiff', '2025_4_10/battery/session_000_076_cube.tiff', '2025_4_10/battery/session_000_077_cube.tiff', '2025_4_10/battery/session_000_078_cube.tiff', '2025_4_10/battery/session_000_079_cube.tiff', '2025_4_10/battery/session_000_080_cube.tiff', '2025_4_10/battery/session_000_081_cube.tiff', '2025_4_10/battery/session_000_082_cube.tiff', '2025_4_10/battery/session_000_083_cube.tiff', '2025_4_10/battery/session_000_084_cube.tiff', '2025_4_10/battery/session_000_085_cube.tiff', '2025_4_10/battery/session_000_086_cube.tiff', '2025_4_10/battery/session_000_087_cube.tiff', '2025_4_10/battery/session_000_088_cube.tiff', '2025_4_10/battery/session_000_089_cube.tiff', '2025_4_10/battery/session_000_090_cube.tiff', '2025_4_10/battery/session_000_091_cube.tiff', '2025_4_10/battery/session_000_092_cube.tiff', '2025_4_10/battery/session_000_093_cube.tiff', '2025_4_10/battery/session_000_094_cube.tiff', '2025_4_10/battery/session_000_095_cube.tiff', '2025_4_10/battery/session_000_096_cube.tiff', '2025_4_10/battery/session_000_097_cube.tiff', '2025_4_10/battery/session_000_098_cube.tiff', '2025_4_10/battery/session_000_099_cube.tiff', '2025_4_10/battery/session_000_100_cube.tiff', '2025_4_10/battery/session_000_101_cube.tiff', '2025_4_10/battery/session_000_102_cube.tiff', '2025_4_10/battery/session_000_103_cube.tiff', '2025_4_10/battery/session_000_104_cube.tiff', '2025_4_10/battery/session_000_105_cube.tiff', '2025_4_10/battery/session_000_106_cube.tiff', '2025_4_10/battery/session_000_107_cube.tiff', '2025_4_10/battery/session_000_108_cube.tiff', '2025_4_10/battery/session_000_109_cube.tiff', '2025_4_10/battery/session_000_110_cube.tiff', '2025_4_10/battery/session_000_111_cube.tiff', '2025_4_10/battery/session_000_112_cube.tiff', '2025_4_10/battery/session_000_113_cube.tiff', '2025_4_10/battery/session_000_114_cube.tiff', '2025_4_10/battery/session_000_115_cube.tiff', '2025_4_10/battery/session_000_116_cube.tiff', '2025_4_10/battery/session_000_117_cube.tiff', '2025_4_10/battery/session_000_118_cube.tiff', '2025_4_10/battery/session_000_119_cube.tiff', '2025_4_10/battery/session_000_120_cube.tiff', '2025_4_10/battery/session_000_121_cube.tiff', '2025_4_10/battery/session_000_122_cube.tiff', '2025_4_10/battery/session_000_123_cube.tiff', '2025_4_10/battery/session_000_124_cube.tiff', '2025_4_10/battery/session_000_125_cube.tiff', '2025_4_10/battery/session_000_126_cube.tiff', '2025_4_10/battery/session_000_127_cube.tiff', '2025_4_10/battery/session_000_128_cube.tiff', '2025_4_10/battery/session_000_129_cube.tiff', '2025_4_10/battery/session_000_130_cube.tiff', '2025_4_10/battery/session_000_131_cube.tiff', '2025_4_10/battery/session_000_132_cube.tiff', '2025_4_10/battery/session_000_133_cube.tiff', '2025_4_10/battery/session_000_134_cube.tiff', '2025_4_10/battery/session_000_135_cube.tiff', '2025_4_10/battery/session_000_136_cube.tiff', '2025_4_10/battery/session_000_137_cube.tiff', '2025_4_10/battery/session_000_138_cube.tiff', '2025_4_10/battery/session_000_139_cube.tiff', '2025_4_10/battery/session_000_140_cube.tiff', '2025_4_10/battery/session_000_141_cube.tiff', '2025_4_10/battery/session_000_142_cube.tiff', '2025_4_10/battery/session_000_143_cube.tiff', '2025_4_10/battery/session_000_144_cube.tiff', '2025_4_10/battery/session_000_145_cube.tiff', '2025_4_10/battery/session_000_146_cube.tiff', '2025_4_10/battery/session_000_147_cube.tiff', '2025_4_10/battery/session_000_148_cube.tiff', '2025_4_10/battery/session_000_149_cube.tiff', '2025_4_10/battery/session_000_150_cube.tiff', '2025_4_10/battery/session_000_151_cube.tiff', '2025_4_10/battery/session_000_152_cube.tiff', '2025_4_10/battery/session_000_153_cube.tiff', '2025_4_10/battery/session_000_154_cube.tiff', '2025_4_10/battery/session_000_155_cube.tiff', '2025_4_10/battery/session_000_156_cube.tiff', '2025_4_10/battery/session_000_157_cube.tiff', '2025_4_10/battery/session_000_158_cube.tiff', '2025_4_10/battery/session_000_159_cube.tiff', '2025_4_10/battery/session_000_160_cube.tiff', '2025_4_10/battery/session_000_161_cube.tiff', '2025_4_10/battery/session_000_162_cube.tiff', '2025_4_10/battery/session_000_163_cube.tiff', '2025_4_10/battery/session_000_164_cube.tiff', '2025_4_10/battery/session_000_165_cube.tiff', '2025_4_10/battery/session_000_166_cube.tiff', '2025_4_10/battery/session_000_167_cube.tiff', '2025_4_10/battery/session_000_168_cube.tiff', '2025_4_10/battery/session_000_169_cube.tiff', '2025_4_10/battery/session_000_170_cube.tiff', '2025_4_10/battery/session_000_171_cube.tiff', '2025_4_10/battery/session_000_172_cube.tiff', '2025_4_10/battery/session_000_173_cube.tiff', '2025_4_10/battery/session_000_174_cube.tiff', '2025_4_10/battery/session_000_175_cube.tiff', '2025_4_10/battery/session_000_176_cube.tiff', '2025_4_10/battery/session_000_177_cube.tiff', '2025_4_10/battery/session_000_178_cube.tiff', '2025_4_10/battery/session_000_179_cube.tiff', '2025_4_10/battery/session_000_180_cube.tiff', '2025_4_10/battery/session_000_181_cube.tiff', '2025_4_10/battery/session_000_182_cube.tiff', '2025_4_10/battery/session_000_183_cube.tiff', '2025_4_10/battery/session_000_184_cube.tiff', '2025_4_10/battery/session_000_185_cube.tiff', '2025_4_10/battery/session_000_186_cube.tiff', '2025_4_10/battery/session_000_187_cube.tiff', '2025_4_10/battery/session_000_188_cube.tiff', '2025_4_10/battery/session_000_189_cube.tiff', '2025_4_10/battery/session_000_190_cube.tiff', '2025_4_10/battery/session_000_191_cube.tiff', '2025_4_10/battery/session_000_192_cube.tiff', '2025_4_10/battery/session_000_193_cube.tiff', '2025_4_10/battery/session_000_194_cube.tiff', '2025_4_10/battery/session_000_195_cube.tiff', '2025_4_10/battery/session_000_196_cube.tiff', '2025_4_10/battery/session_000_197_cube.tiff', '2025_4_10/battery/session_000_198_cube.tiff', '2025_4_10/battery/session_000_199_cube.tiff', '2025_4_10/battery/session_000_200_cube.tiff', '2025_4_10/battery/session_000_201_cube.tiff', '2025_4_10/battery/session_000_202_cube.tiff', '2025_4_10/battery/session_000_203_cube.tiff', '2025_4_10/battery/session_000_204_cube.tiff', '2025_4_10/battery/session_000_205_cube.tiff', '2025_4_10/battery/session_000_206_cube.tiff', '2025_4_10/battery/session_000_207_cube.tiff', '2025_4_10/battery/session_000_208_cube.tiff', '2025_4_10/battery/session_000_209_cube.tiff', '2025_4_10/battery/session_000_210_cube.tiff', '2025_4_10/battery/session_000_211_cube.tiff', '2025_4_10/battery/session_000_212_cube.tiff', '2025_4_10/battery/session_000_213_cube.tiff', '2025_4_10/battery/session_000_214_cube.tiff', '2025_4_10/battery/session_000_215_cube.tiff', '2025_4_10/battery/session_000_216_cube.tiff', '2025_4_10/battery/session_000_217_cube.tiff', '2025_4_10/battery/session_000_218_cube.tiff', '2025_4_10/battery/session_000_219_cube.tiff', '2025_4_10/battery/session_000_220_cube.tiff', '2025_4_10/battery/session_000_221_cube.tiff', '2025_4_10/battery/session_000_222_cube.tiff', '2025_4_10/battery/session_000_223_cube.tiff', '2025_4_10/battery/session_000_224_cube.tiff', '2025_4_10/battery/session_000_225_cube.tiff', '2025_4_10/battery/session_000_226_cube.tiff', '2025_4_10/battery/session_000_227_cube.tiff', '2025_4_10/battery/session_000_228_cube.tiff', '2025_4_10/battery/session_000_229_cube.tiff', '2025_4_10/battery/session_000_230_cube.tiff', '2025_4_10/battery/session_000_231_cube.tiff', '2025_4_10/battery/session_000_232_cube.tiff', '2025_4_10/battery/session_000_233_cube.tiff', '2025_4_10/battery/session_000_234_cube.tiff', '2025_4_10/battery/session_000_235_cube.tiff', '2025_4_10/battery/session_000_236_cube.tiff', '2025_4_10/battery/session_000_237_cube.tiff', '2025_4_10/battery/session_000_238_cube.tiff', '2025_4_10/battery/session_000_239_cube.tiff', '2025_4_10/battery/session_000_240_cube.tiff', '2025_4_10/battery/session_000_241_cube.tiff', '2025_4_10/battery/session_000_242_cube.tiff', '2025_4_10/battery/session_000_243_cube.tiff', '2025_4_10/battery/session_000_244_cube.tiff', '2025_4_10/battery/session_000_245_cube.tiff', '2025_4_10/battery/session_000_246_cube.tiff', '2025_4_10/battery/session_000_247_cube.tiff', '2025_4_10/battery/session_000_248_cube.tiff', '2025_4_10/battery/session_000_249_cube.tiff', '2025_4_10/battery/session_000_250_cube.tiff', '2025_4_10/battery/session_000_251_cube.tiff', '2025_4_10/battery/session_000_252_cube.tiff', '2025_4_10/battery/session_000_253_cube.tiff', '2025_4_10/battery/session_000_254_cube.tiff', '2025_4_10/battery/session_000_255_cube.tiff', '2025_4_10/battery/session_000_256_cube.tiff', '2025_4_10/battery/session_000_257_cube.tiff', '2025_4_10/battery/session_000_258_cube.tiff', '2025_4_10/battery/session_000_259_cube.tiff', '2025_4_10/battery/session_000_260_cube.tiff', '2025_4_10/battery/session_000_261_cube.tiff', '2025_4_10/battery/session_000_262_cube.tiff', '2025_4_10/battery/session_000_263_cube.tiff', '2025_4_10/battery/session_000_264_cube.tiff', '2025_4_10/battery/session_000_265_cube.tiff', '2025_4_10/battery/session_000_266_cube.tiff', '2025_4_10/battery/session_000_267_cube.tiff', '2025_4_10/battery/session_000_268_cube.tiff', '2025_4_10/battery/session_000_269_cube.tiff', '2025_4_10/battery/session_000_270_cube.tiff', '2025_4_10/battery/session_000_271_cube.tiff', '2025_4_10/battery/session_000_272_cube.tiff', '2025_4_10/battery/session_000_273_cube.tiff', '2025_4_10/battery/session_000_274_cube.tiff', '2025_4_10/battery/session_000_275_cube.tiff', '2025_4_10/battery/session_000_276_cube.tiff', '2025_4_10/battery/session_000_277_cube.tiff', '2025_4_10/battery/session_000_278_cube.tiff', '2025_4_10/battery/session_000_279_cube.tiff', '2025_4_10/battery/session_000_280_cube.tiff', '2025_4_10/battery/session_000_281_cube.tiff', '2025_4_10/battery/session_000_282_cube.tiff', '2025_4_10/battery/session_000_283_cube.tiff', '2025_4_10/battery/session_000_284_cube.tiff', '2025_4_10/battery/session_000_285_cube.tiff', '2025_4_10/battery/session_000_286_cube.tiff', '2025_4_10/battery/session_000_287_cube.tiff', '2025_4_10/battery/session_000_288_cube.tiff', '2025_4_10/battery/session_000_289_cube.tiff', '2025_4_10/battery/session_000_290_cube.tiff', '2025_4_10/battery/session_000_291_cube.tiff', '2025_4_10/battery/session_000_292_cube.tiff', '2025_4_10/battery/session_000_293_cube.tiff', '2025_4_10/battery/session_000_294_cube.tiff', '2025_4_10/battery/session_000_295_cube.tiff', '2025_4_10/battery/session_000_296_cube.tiff', '2025_4_10/battery/session_000_297_cube.tiff', '2025_4_10/battery/session_000_298_cube.tiff', '2025_4_10/battery/session_000_299_cube.tiff', '2025_4_10/battery/session_000_300_cube.tiff', '2025_4_10/battery/session_000_301_cube.tiff', '2025_4_10/battery/session_000_302_cube.tiff', '2025_4_10/battery/session_000_303_cube.tiff', '2025_4_10/battery/session_000_304_cube.tiff', '2025_4_10/battery/session_000_305_cube.tiff', '2025_4_10/battery/session_000_306_cube.tiff', '2025_4_10/battery/session_000_307_cube.tiff', '2025_4_10/battery/session_000_308_cube.tiff', '2025_4_10/battery/session_000_309_cube.tiff', '2025_4_10/battery/session_000_310_cube.tiff', '2025_4_10/battery/session_000_311_cube.tiff', '2025_4_10/battery/session_000_312_cube.tiff', '2025_4_10/battery/session_000_313_cube.tiff', '2025_4_10/battery/session_000_314_cube.tiff', '2025_4_10/battery/session_000_315_cube.tiff', '2025_4_10/battery/session_000_316_cube.tiff', '2025_4_10/battery/session_000_317_cube.tiff', '2025_4_10/battery/session_000_318_cube.tiff', '2025_4_10/battery/session_000_319_cube.tiff', '2025_4_10/battery/session_000_320_cube.tiff', '2025_4_10/battery/session_000_321_cube.tiff', '2025_4_10/battery/session_000_322_cube.tiff', '2025_4_10/battery/session_000_323_cube.tiff', '2025_4_10/battery/session_000_324_cube.tiff', '2025_4_10/battery/session_000_325_cube.tiff', '2025_4_10/battery/session_000_326_cube.tiff', '2025_4_10/battery/session_000_327_cube.tiff', '2025_4_10/battery/session_000_328_cube.tiff', '2025_4_10/battery/session_000_329_cube.tiff', '2025_4_10/battery/session_000_330_cube.tiff', '2025_4_10/battery/session_000_331_cube.tiff', '2025_4_10/battery/session_000_332_cube.tiff', '2025_4_10/battery/session_000_333_cube.tiff', '2025_4_10/battery/session_000_334_cube.tiff', '2025_4_10/battery/session_000_335_cube.tiff', '2025_4_10/battery/session_000_336_cube.tiff', '2025_4_10/battery/session_000_337_cube.tiff', '2025_4_10/battery/session_000_338_cube.tiff', '2025_4_10/battery/session_000_339_cube.tiff', '2025_4_10/battery/session_000_340_cube.tiff', '2025_4_10/battery/session_000_341_cube.tiff', '2025_4_10/battery/session_000_342_cube.tiff', '2025_4_10/battery/session_000_343_cube.tiff', '2025_4_10/battery/session_000_344_cube.tiff', '2025_4_10/battery/session_000_345_cube.tiff', '2025_4_10/battery/session_000_346_cube.tiff', '2025_4_10/battery/session_000_347_cube.tiff', '2025_4_10/battery/session_000_348_cube.tiff', '2025_4_10/battery/session_000_349_cube.tiff', '2025_4_10/battery/session_000_350_cube.tiff', '2025_4_10/battery/session_000_351_cube.tiff', '2025_4_10/battery/session_000_352_cube.tiff', '2025_4_10/battery/session_000_353_cube.tiff', '2025_4_10/battery/session_000_354_cube.tiff', '2025_4_10/battery/session_000_355_cube.tiff', '2025_4_10/battery/session_000_356_cube.tiff', '2025_4_10/battery/session_000_357_cube.tiff', '2025_4_10/battery/session_000_358_cube.tiff', '2025_4_10/battery/session_000_359_cube.tiff', '2025_4_10/battery/session_000_360_cube.tiff', '2025_4_10/battery/session_000_361_cube.tiff', '2025_4_10/battery/session_000_362_cube.tiff', '2025_4_10/battery/session_000_363_cube.tiff', '2025_4_10/battery/session_000_364_cube.tiff', '2025_4_10/battery/session_000_365_cube.tiff', '2025_4_10/battery/session_000_366_cube.tiff', '2025_4_10/battery/session_000_367_cube.tiff', '2025_4_10/battery/session_000_368_cube.tiff', '2025_4_10/battery/session_000_369_cube.tiff', '2025_4_10/battery/session_000_370_cube.tiff', '2025_4_10/battery/session_000_371_cube.tiff', '2025_4_10/battery/session_000_372_cube.tiff', '2025_4_10/battery/session_000_373_cube.tiff', '2025_4_10/battery/session_000_374_cube.tiff', '2025_4_10/battery/session_000_375_cube.tiff', '2025_4_10/battery/session_000_376_cube.tiff', '2025_4_10/battery/session_000_377_cube.tiff', '2025_4_10/battery/session_000_378_cube.tiff', '2025_4_10/battery/session_000_379_cube.tiff', '2025_4_10/battery/session_000_380_cube.tiff', '2025_4_10/battery/session_000_381_cube.tiff', '2025_4_10/battery/session_000_382_cube.tiff', '2025_4_10/battery/session_000_383_cube.tiff', '2025_4_10/battery/session_000_384_cube.tiff', '2025_4_10/battery/session_000_385_cube.tiff', '2025_4_10/battery/session_000_386_cube.tiff', '2025_4_10/battery/session_000_387_cube.tiff', '2025_4_10/battery/session_000_388_cube.tiff', '2025_4_10/battery/session_000_389_cube.tiff', '2025_4_10/battery/session_000_390_cube.tiff', '2025_4_10/battery/session_000_391_cube.tiff', '2025_4_10/battery/session_000_392_cube.tiff', '2025_4_10/battery/session_000_393_cube.tiff', '2025_4_10/battery/session_000_394_cube.tiff', '2025_4_10/battery/session_000_395_cube.tiff', '2025_4_10/battery/session_000_396_cube.tiff', '2025_4_10/battery/session_000_397_cube.tiff', '2025_4_10/battery/session_000_398_cube.tiff', '2025_4_10/battery/session_000_399_cube.tiff', '2025_4_10/battery/session_000_400_cube.tiff', '2025_4_10/battery/session_000_401_cube.tiff', '2025_4_10/battery/session_000_402_cube.tiff', '2025_4_10/battery/session_000_403_cube.tiff', '2025_4_10/battery/session_000_404_cube.tiff', '2025_4_10/battery/session_000_405_cube.tiff', '2025_4_10/battery/session_000_406_cube.tiff', '2025_4_10/battery/session_000_407_cube.tiff', '2025_4_10/battery/session_000_408_cube.tiff', '2025_4_10/battery/session_000_409_cube.tiff', '2025_4_10/battery/session_000_410_cube.tiff', '2025_4_10/battery/session_000_411_cube.tiff', '2025_4_10/battery/session_000_412_cube.tiff', '2025_4_10/battery/session_000_413_cube.tiff', '2025_4_10/battery/session_000_414_cube.tiff', '2025_4_10/battery/session_000_415_cube.tiff', '2025_4_10/battery/session_000_416_cube.tiff', '2025_4_10/battery/session_000_417_cube.tiff', '2025_4_10/battery/session_000_418_cube.tiff', '2025_4_10/battery/session_000_419_cube.tiff', '2025_4_10/battery/session_000_420_cube.tiff', '2025_4_10/battery/session_000_421_cube.tiff', '2025_4_10/battery/session_000_422_cube.tiff', '2025_4_10/battery/session_000_423_cube.tiff', '2025_4_10/battery/session_000_424_cube.tiff', '2025_4_10/battery/session_000_425_cube.tiff', '2025_4_10/battery/session_000_426_cube.tiff', '2025_4_10/battery/session_000_427_cube.tiff', '2025_4_10/battery/session_000_428_cube.tiff', '2025_4_10/battery/session_000_429_cube.tiff', '2025_4_10/battery/session_000_430_cube.tiff', '2025_4_10/battery/session_000_431_cube.tiff', '2025_4_10/battery/session_000_432_cube.tiff', '2025_4_10/battery/session_000_433_cube.tiff', '2025_4_10/battery/session_000_434_cube.tiff', '2025_4_10/battery/session_000_435_cube.tiff', '2025_4_10/battery/session_000_436_cube.tiff', '2025_4_10/battery/session_000_437_cube.tiff', '2025_4_10/battery/session_000_438_cube.tiff', '2025_4_10/battery/session_000_439_cube.tiff', '2025_4_10/battery/session_000_440_cube.tiff', '2025_4_10/battery/session_000_441_cube.tiff', '2025_4_10/battery/session_000_442_cube.tiff', '2025_4_10/battery/session_000_443_cube.tiff', '2025_4_10/battery/session_000_444_cube.tiff', '2025_4_10/battery/session_000_445_cube.tiff', '2025_4_10/battery/session_000_446_cube.tiff', '2025_4_10/battery/session_000_447_cube.tiff', '2025_4_10/battery/session_000_448_cube.tiff', '2025_4_10/battery/session_000_449_cube.tiff', '2025_4_10/battery/session_000_450_cube.tiff', '2025_4_10/battery/session_000_451_cube.tiff', '2025_4_10/battery/session_000_452_cube.tiff', '2025_4_10/battery/session_000_453_cube.tiff', '2025_4_10/battery/session_000_454_cube.tiff', '2025_4_10/battery/session_000_455_cube.tiff', '2025_4_10/battery/session_000_456_cube.tiff', '2025_4_10/battery/session_000_457_cube.tiff', '2025_4_10/battery/session_000_458_cube.tiff', '2025_4_10/battery/session_000_459_cube.tiff', '2025_4_10/battery/session_000_460_cube.tiff', '2025_4_10/battery/session_000_461_cube.tiff', '2025_4_10/battery/session_000_462_cube.tiff', '2025_4_10/battery/session_000_463_cube.tiff', '2025_4_10/battery/session_000_464_cube.tiff', '2025_4_10/battery/session_000_465_cube.tiff', '2025_4_10/battery/session_000_466_cube.tiff', '2025_4_10/battery/session_000_467_cube.tiff', '2025_4_10/battery/session_000_468_cube.tiff', '2025_4_10/battery/session_000_469_cube.tiff', '2025_4_10/battery/session_000_470_cube.tiff', '2025_4_10/battery/session_000_471_cube.tiff', '2025_4_10/battery/session_000_472_cube.tiff', '2025_4_10/battery/session_000_473_cube.tiff', '2025_4_10/battery/session_000_474_cube.tiff', '2025_4_10/battery/session_000_475_cube.tiff', '2025_4_10/battery/session_000_476_cube.tiff', '2025_4_10/battery/session_000_477_cube.tiff', '2025_4_10/battery/session_000_478_cube.tiff', '2025_4_10/battery/session_000_479_cube.tiff', '2025_4_10/battery/session_000_480_cube.tiff', '2025_4_10/battery/session_000_481_cube.tiff', '2025_4_10/battery/session_000_482_cube.tiff', '2025_4_10/battery/session_000_483_cube.tiff', '2025_4_10/battery/session_000_484_cube.tiff', '2025_4_10/battery/session_000_485_cube.tiff', '2025_4_10/battery/session_000_486_cube.tiff', '2025_4_10/battery/session_000_487_cube.tiff', '2025_4_10/battery/session_000_488_cube.tiff', '2025_4_10/battery/session_000_489_cube.tiff', '2025_4_10/battery/session_000_490_cube.tiff', '2025_4_10/battery/session_000_491_cube.tiff', '2025_4_10/battery/session_000_492_cube.tiff', '2025_4_10/battery/session_000_493_cube.tiff', '2025_4_10/battery/session_000_494_cube.tiff', '2025_4_10/battery/session_000_495_cube.tiff', '2025_4_10/battery/session_000_496_cube.tiff', '2025_4_10/battery/session_000_497_cube.tiff', '2025_4_10/battery/session_000_498_cube.tiff', '2025_4_10/battery/session_000_499_cube.tiff', '2025_4_10/battery/session_000_500_cube.tiff', '2025_4_10/battery/session_000_501_cube.tiff', '2025_4_10/battery/session_000_502_cube.tiff', '2025_4_10/battery/session_000_503_cube.tiff']\n"
     ]
    }
   ],
   "source": [
    "save_path = r\"band_selection/battery\"\n",
    "for n in range(1,51):\n",
    "    os.makedirs(str(save_path) + \"/\" + str(n) , exist_ok=True)\n",
    "\n",
    "source_dir = r\"2025_4_10/battery\"\n",
    "battery_files = natsorted(glob.glob(source_dir + \"/*.tiff\"))\n",
    "print(battery_files)\n",
    "index = 0\n",
    "for l in battery_files:\n",
    "    hyper_img = tifffile.imread(l)\n",
    "\n",
    "    for m in range(1,51):\n",
    "        nor_img = hyper_img[:,:,m]\n",
    "\n",
    "        outfile = save_path + \"/\" + str(m) + \"/\" + str(index) + \"th\" + str(m) + \".jpg\"\n",
    "        tifffile.imwrite(outfile, nor_img)\n",
    "\n",
    "    index += 1\n",
    "    "
   ]
  }
 ],
 "metadata": {
  "kernelspec": {
   "display_name": "hyper_kernel",
   "language": "python",
   "name": "hyper_kernel"
  },
  "language_info": {
   "codemirror_mode": {
    "name": "ipython",
    "version": 3
   },
   "file_extension": ".py",
   "mimetype": "text/x-python",
   "name": "python",
   "nbconvert_exporter": "python",
   "pygments_lexer": "ipython3",
   "version": "3.12.3"
  }
 },
 "nbformat": 4,
 "nbformat_minor": 2
}
