{
 "cells": [
  {
   "cell_type": "code",
   "execution_count": 11,
   "metadata": {},
   "outputs": [],
   "source": [
    "import tifffile\n",
    "import numpy as np\n",
    "from natsort import natsorted\n",
    "import glob\n",
    "import matplotlib.pyplot as plt\n",
    "from PIL import Image"
   ]
  },
  {
   "cell_type": "code",
   "execution_count": 14,
   "metadata": {},
   "outputs": [],
   "source": [
    "from PIL import Image\n",
    "sorce_path = r\"band_selection/not_battery\"\n",
    "for i in range(1, 50):\n",
    "    dir_sample = natsorted(glob.glob(f\"{sorce_path}/{i}/*.jpg\"))\n",
    "    for l in dir_sample:\n",
    "        tiff_img = tifffile.imread(l)\n",
    "        if np.max(tiff_img) > 255:\n",
    "            tiff_img = tiff_img / np.max(tiff_img) * 255\n",
    "        jpeg_img = tiff_img.astype(np.uint8)\n",
    "        \n",
    "        # PILでグレースケールとして保存（JPEG形式）\n",
    "        Image.fromarray(jpeg_img).convert(\"L\").save(l)      \n"
   ]
  },
  {
   "cell_type": "code",
   "execution_count": null,
   "metadata": {},
   "outputs": [],
   "source": []
  }
 ],
 "metadata": {
  "kernelspec": {
   "display_name": "hyper_kernel",
   "language": "python",
   "name": "hyper_kernel"
  },
  "language_info": {
   "codemirror_mode": {
    "name": "ipython",
    "version": 3
   },
   "file_extension": ".py",
   "mimetype": "text/x-python",
   "name": "python",
   "nbconvert_exporter": "python",
   "pygments_lexer": "ipython3",
   "version": "3.12.3"
  }
 },
 "nbformat": 4,
 "nbformat_minor": 2
}
